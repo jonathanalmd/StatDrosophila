{
 "cells": [
  {
   "cell_type": "markdown",
   "metadata": {},
   "source": [
    "# Data Wrangling"
   ]
  },
  {
   "cell_type": "markdown",
   "metadata": {},
   "source": [
    "Dealing with and or converting missing or ill-formated data into a format that more easily lends itself to analysis"
   ]
  },
  {
   "cell_type": "markdown",
   "metadata": {},
   "source": [
    "## Imports"
   ]
  },
  {
   "cell_type": "code",
   "execution_count": 2,
   "metadata": {
    "collapsed": true
   },
   "outputs": [],
   "source": [
    "import numpy as np\n",
    "import pandas as pd\n",
    "import os\n",
    "import re\n",
    "from translate import Translator"
   ]
  },
  {
   "cell_type": "markdown",
   "metadata": {},
   "source": [
    "## Definitions"
   ]
  },
  {
   "cell_type": "code",
   "execution_count": 3,
   "metadata": {
    "collapsed": true
   },
   "outputs": [],
   "source": [
    "def input_dir():\n",
    "    return os.getcwd() + '/data/input/'\n",
    "\n",
    "def output_dir():\n",
    "    return os.getcwd() + '/data/'"
   ]
  },
  {
   "cell_type": "code",
   "execution_count": 4,
   "metadata": {
    "collapsed": true
   },
   "outputs": [],
   "source": [
    "def transl(lang, word):\n",
    "    translator = Translator(from_lang='pt',to_lang=lang)\n",
    "    return translator.translate(word)"
   ]
  },
  {
   "cell_type": "code",
   "execution_count": 20,
   "metadata": {
    "collapsed": true
   },
   "outputs": [],
   "source": [
    "base = 'sp-'\n",
    "filetype_in = '.csv'\n",
    "filetype_out = '.csv'\n",
    "table_attributes_def = ['species','region', 'site', 'longitude', 'latitude', 'ref']"
   ]
  },
  {
   "cell_type": "code",
   "execution_count": 21,
   "metadata": {},
   "outputs": [],
   "source": [
    "def wrangler(species):\n",
    "    # create output file\n",
    "    out_data = open(output_dir() + 'wrangled_all_species' + filetype_out, 'w')\n",
    "    # add new table attribute definitions\n",
    "    out_data.write(','.join(table_attributes_def))\n",
    "    out_data.write('\\n')\n",
    "\n",
    "    for sp in species:\n",
    "        dros_data = open(input_dir() + base + sp + filetype_in, 'r+')\n",
    "        # region dictionary\n",
    "        region_dict = {}\n",
    "        with open(input_dir() + base + sp + filetype_in) as dros_data:\n",
    "            # ignore first line\n",
    "            next(dros_data)\n",
    "            for line in dros_data:\n",
    "                # line to list\n",
    "                line = line.split(';')\n",
    "                # remove 9 last entries (garbage)\n",
    "                line = line[:-9]\n",
    "                # Remove reference (article) comments \n",
    "                line[-1] = line[-1].split(',')[0]\n",
    "                # Translate region (pt to en)\n",
    "                if not region_dict.get(line[0]):\n",
    "                    # save translation in our dictionary - translate function is REALLY slow\n",
    "                    region_dict[line[0]] = transl('en',line[0])\n",
    "                line[0] = region_dict[line[0]]\n",
    "                # Remove \\xa0 and leading whitespace\n",
    "                line[1] = line[1].replace(u'\\xa0\\xa0\\xa0', '')\n",
    "                line[1] = line[1].lstrip()\n",
    "                # Set float notation (using dot instead of comma)\n",
    "                line[2] = line[2].replace(u',','.')\n",
    "                line[3] = line[3].replace(u',','.')\n",
    "                # Replace '-' \n",
    "                line[:] = [x if x != '-' else '' for x in line]\n",
    "                line = [sp] + line\n",
    "\n",
    "                out_data.write(','.join(line))\n",
    "                out_data.write('\\n')\n"
   ]
  },
  {
   "cell_type": "markdown",
   "metadata": {},
   "source": [
    "## Data Wrangling"
   ]
  },
  {
   "cell_type": "code",
   "execution_count": null,
   "metadata": {
    "scrolled": true
   },
   "outputs": [],
   "source": [
    "species = ['cardini','cardinoides','neocardini','neomorpha','polymorpha','simulans','willistoni']\n",
    "wrangler(species)"
   ]
  },
  {
   "cell_type": "markdown",
   "metadata": {},
   "source": [
    "# Intro to Computer Science 2017/1 Data"
   ]
  },
  {
   "cell_type": "markdown",
   "metadata": {},
   "source": [
    "## Open Wrangled .csv Data with Pandas"
   ]
  },
  {
   "cell_type": "code",
   "execution_count": null,
   "metadata": {
    "collapsed": true
   },
   "outputs": [],
   "source": []
  },
  {
   "cell_type": "markdown",
   "metadata": {},
   "source": [
    "## Print DataFrame"
   ]
  },
  {
   "cell_type": "code",
   "execution_count": null,
   "metadata": {
    "collapsed": true
   },
   "outputs": [],
   "source": []
  },
  {
   "cell_type": "markdown",
   "metadata": {},
   "source": [
    "## DataFrame Info"
   ]
  },
  {
   "cell_type": "code",
   "execution_count": null,
   "metadata": {
    "collapsed": true
   },
   "outputs": [],
   "source": []
  },
  {
   "cell_type": "markdown",
   "metadata": {},
   "source": [
    "## Fill NaN"
   ]
  },
  {
   "cell_type": "code",
   "execution_count": null,
   "metadata": {
    "collapsed": true
   },
   "outputs": [],
   "source": []
  },
  {
   "cell_type": "markdown",
   "metadata": {},
   "source": [
    "## DataFrame to .csv"
   ]
  },
  {
   "cell_type": "code",
   "execution_count": null,
   "metadata": {
    "collapsed": true
   },
   "outputs": [],
   "source": []
  },
  {
   "cell_type": "markdown",
   "metadata": {},
   "source": [
    "# Intro to Computer Science 2017/2 Data"
   ]
  },
  {
   "cell_type": "markdown",
   "metadata": {},
   "source": [
    "## Open Wrangled .csv Data with Pandas"
   ]
  },
  {
   "cell_type": "code",
   "execution_count": null,
   "metadata": {
    "collapsed": true
   },
   "outputs": [],
   "source": []
  },
  {
   "cell_type": "markdown",
   "metadata": {},
   "source": [
    "## Print DataFrame"
   ]
  },
  {
   "cell_type": "code",
   "execution_count": null,
   "metadata": {
    "collapsed": true
   },
   "outputs": [],
   "source": []
  },
  {
   "cell_type": "markdown",
   "metadata": {},
   "source": [
    "## DataFrame Info"
   ]
  },
  {
   "cell_type": "code",
   "execution_count": null,
   "metadata": {
    "collapsed": true
   },
   "outputs": [],
   "source": []
  },
  {
   "cell_type": "markdown",
   "metadata": {},
   "source": [
    "## Fill NaN"
   ]
  },
  {
   "cell_type": "code",
   "execution_count": null,
   "metadata": {
    "collapsed": true
   },
   "outputs": [],
   "source": []
  },
  {
   "cell_type": "markdown",
   "metadata": {},
   "source": [
    "## DataFrame to .csv"
   ]
  },
  {
   "cell_type": "code",
   "execution_count": null,
   "metadata": {
    "collapsed": true
   },
   "outputs": [],
   "source": []
  },
  {
   "cell_type": "code",
   "execution_count": null,
   "metadata": {
    "collapsed": true
   },
   "outputs": [],
   "source": []
  }
 ],
 "metadata": {
  "kernelspec": {
   "display_name": "Python 3",
   "language": "python",
   "name": "python3"
  },
  "language_info": {
   "codemirror_mode": {
    "name": "ipython",
    "version": 3
   },
   "file_extension": ".py",
   "mimetype": "text/x-python",
   "name": "python",
   "nbconvert_exporter": "python",
   "pygments_lexer": "ipython3",
   "version": "3.6.3"
  }
 },
 "nbformat": 4,
 "nbformat_minor": 2
}
