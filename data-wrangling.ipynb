{
 "cells": [
  {
   "cell_type": "markdown",
   "metadata": {},
   "source": [
    "# Data Wrangling"
   ]
  },
  {
   "cell_type": "markdown",
   "metadata": {},
   "source": [
    "Dealing with and or converting missing or ill-formated data into a format that more easily lends itself to analysis"
   ]
  },
  {
   "cell_type": "markdown",
   "metadata": {},
   "source": [
    "## Imports"
   ]
  },
  {
   "cell_type": "code",
   "execution_count": 78,
   "metadata": {
    "collapsed": true
   },
   "outputs": [],
   "source": [
    "import numpy as np\n",
    "import pandas as pd\n",
    "import os\n",
    "import re\n",
    "from translate import Translator"
   ]
  },
  {
   "cell_type": "markdown",
   "metadata": {},
   "source": [
    "## Definitions"
   ]
  },
  {
   "cell_type": "code",
   "execution_count": 79,
   "metadata": {
    "collapsed": true
   },
   "outputs": [],
   "source": [
    "def input_dir():\n",
    "    return os.getcwd() + '/data/input/'\n",
    "\n",
    "def output_dir():\n",
    "    return os.getcwd() + '/data/'"
   ]
  },
  {
   "cell_type": "code",
   "execution_count": 109,
   "metadata": {
    "collapsed": true
   },
   "outputs": [],
   "source": [
    "def transl(lang, word):\n",
    "    translator = Translator(from_lang='pt',to_lang=lang)\n",
    "    return translator.translate(word)"
   ]
  },
  {
   "cell_type": "code",
   "execution_count": 110,
   "metadata": {
    "collapsed": true
   },
   "outputs": [],
   "source": [
    "base = 'sp-'\n",
    "filetype_in = '.csv'\n",
    "filetype_out = '.csv'\n",
    "table_attributes_def = ['region', 'site', 'longitude', 'latitude', 'ref']"
   ]
  },
  {
   "cell_type": "code",
   "execution_count": 117,
   "metadata": {},
   "outputs": [],
   "source": [
    "def wrangler(data_id):\n",
    "    dros_data = open(input_dir() + base + data_id + filetype_in, 'r+')\n",
    "    wrangled_data = {} # dict lists of lists\n",
    "    # create output file\n",
    "    out_data = open(output_dir() + 'wrangled_' + base + data_id + filetype_out, 'w')\n",
    "    # add new table attribute definitions\n",
    "    out_data.write(','.join(table_attributes_def))\n",
    "    out_data.write('\\n')\n",
    "    # region dictionary\n",
    "    region_dict = {}\n",
    "    with open(input_dir() + base + data_id + filetype_in) as dros_data:\n",
    "        # ignore first line\n",
    "        next(dros_data)\n",
    "        for line in dros_data:\n",
    "            # line to list\n",
    "            line = line.split(';')\n",
    "            # remove 9 last entries (garbage)\n",
    "            line = line[:-9]\n",
    "            # Remove reference (article) comments \n",
    "            line[-1] = line[-1].split(',')[0]\n",
    "            # Translate region (pt to en)\n",
    "            if not region_dict.get(line[0]):\n",
    "                # save translation in our dictionary - translate function is REALLY slow\n",
    "                region_dict[line[0]] = transl('en',line[0])\n",
    "            line[0] = region_dict[line[0]]\n",
    "            # Remove \\xa0 and leading whitespace\n",
    "            line[1] = line[1].replace(u'\\xa0\\xa0\\xa0', '')\n",
    "            line[1] = line[1].lstrip()\n",
    "            # Set float notation (using dot instead of comma)\n",
    "            line[2] = line[2].replace(u',','.')\n",
    "            line[3] = line[3].replace(u',','.')\n",
    "            \n",
    "            print(line)\n",
    "            out_data.write(','.join(line))\n",
    "            out_data.write('\\n')\n",
    "\n",
    "    #             # transform student_id to year\n",
    "    #             line[0] = '20' + line[0][:2]\n",
    "    #             # replace ',' with '.' for all line elements \n",
    "    #             line = [element.replace(',', '.') for element in line]\n",
    "    #             line[-1] = line[-1][:2]\n",
    "    #             print (line)\n",
    "    #             line.append(current_class)\n",
    "    #             wrangled_data[current_class].append(line)\n",
    "\n",
    "    #     # create output file\n",
    "    #     out_data = open(output_dir() + 'wrangled_' + base + data_id + filetype_out, 'w')\n",
    "    #     # add new table attribute definitions\n",
    "    #     out_data.write(','.join(table_attributes_def))\n",
    "    #     out_data.write('\\n')\n",
    "    #     for key, species in wrangled_data.items():\n",
    "    #         for occurrence in species:\n",
    "    #             out_data.write(','.join(occurrence))\n",
    "    #             out_data.write('\\n')\n",
    "    #     out_data.close()"
   ]
  },
  {
   "cell_type": "markdown",
   "metadata": {},
   "source": [
    "## Data Wrangling"
   ]
  },
  {
   "cell_type": "code",
   "execution_count": null,
   "metadata": {
    "scrolled": true
   },
   "outputs": [
    {
     "name": "stdout",
     "output_type": "stream",
     "text": [
      "['South America', 'tavares', '-48.32', '27.39 ', 'Schmitz H.J. et al. (2007)']\n",
      "['South America', 'santa marta/colombia', ' -74.10 ', '11.18', 'Hoenigsberg H.F. (1995)']\n",
      "['South America', 'caracas', '-66.56', '10.35', 'Heed W.B. and Russell J.S. (1971)']\n",
      "['South America', 'duaca', '-69.08', '10.22', 'Oelshlegel F.J. and Brewer G.J. (1975)']\n",
      "['South America', 'barquisimeto', '-69.18', '10.03', 'Hunter A.S. (1970)']\n",
      "['South America', 'carpentaro', ' -70.00', '10.00 ', 'Yoon J.S. (1984)']\n",
      "['South America', 'carpentaro', ' -70.00', '10.00 ', 'Yoon Z. (1996)']\n",
      "['South America', 'carpentaro', ' -70.00', '10.00 ', 'Yoon J.S. (1984)']\n",
      "['South America', 'georgetown/guyana', '-58.10', '6.46', 'Heed W.B. and Russell J.S. (1971)']\n",
      "['South America', 'bogota', '-74.05', '4.48', 'Heed W.B. and Russell J.S. (1971)']\n",
      "['South America', 'bogota', '-74.05', '4.48', 'Hunter A.S. (1966)']\n",
      "['South America', 'fusagasuga', '-74.21', '4.22', 'Hunter A.S. and Navarro A. (1969)']\n",
      "['South America', 'orellana', '-76.05', '0.53 ', 'Acurio A. and Rafael V. (2009)']\n",
      "['South America', 'imbabura', '-78.30', '0.30 ', 'Acurio A. and Rafael V. (2009)']\n",
      "['South America', 'guayllabamba', '-78.22', '0.03', 'Rafael V. and Arcos G. (1988)']\n",
      "['South America', 'el quinche', '-78.18', '-0.07', ' Rafael V. et al. (2000)']\n",
      "['South America', 'ibarra', '-78.10', '-0.21 ', 'Rafael V. (2007)']\n",
      "['South America', 'ilha grande', '-65.03', '-0.28 ', 'Morais P.B. et al. (2005)']\n",
      "['South America', 'parque nacional yasuni', '-76.23', '-0.39 ', 'Acurio A.E. and Rafael V.L. (2009)']\n",
      "['South America', 'cotopaxi', '-78.28', '-0.40', 'Acurio A. and Rafael V. (2009)']\n",
      "['South America', 'pichincha', ' -75.21', '-0.45', 'Acurio A. and Rafael V. (2009)']\n",
      "['South America', 'montecristi', ' -80.39', '-1.05', 'Rafael V. (2007)']\n",
      "['South America', 'montecristi', '-80.39', '-1.05 ', 'Rafael V. et al. (2000)']\n",
      "['South America', 'belem', '-48.29', '-1.27 ', 'Heed W.B. and Russell J.S. (1971)']\n",
      "['South America', 'manabi', ' -80.30', '-1.30', 'Acurio A. and Rafael V. (2009)']\n",
      "['South America', 'manabi', ' -80.30', '-1.30', 'Rafael V. and Vela D. (2000)']\n",
      "['South America', 'mangas', '-80.00', '-2.00', 'Rafael V. et al. (2000)']\n",
      "['South America', 'procel', '-80.00', '-2.00 ', 'Rafael V. et al. (2000)']\n",
      "['South America', 'ballenita', '-80.52', '-2.16 ', 'Rafael V. et al. (2000)']\n",
      "['South America', 'ballenita', '-80.52', '-2.16 ', 'Rafael V. et al. (2000)']\n",
      "['South America', 'guayas', '-80.17', '-2.16 ', 'Acurio A. and Rafael V. (2009)']\n",
      "['South America', 'guayas', '-80.17', '-2.16', 'Rafael V. and Vela D. (2000)']\n",
      "['South America', 'manaus', '-60.00', '-3.06 ', 'Martins M. (1987)']\n",
      "['South America', 'el oro', '-79.50', '-3.27', 'Rafael V. and Vela D. (2000)']\n",
      "['South America', 'huaquillas', ' -80.00', '-3.30 ', 'Rafael V. et al. (2000)']\n",
      "['South America', 'pinas', '-80.00', '-3.30', 'Rafael V. et al. (2000)']\n",
      "['South America', 'huaquillas', ' -80.00', '-3.30 ', 'Rafael V. et al. (2000)']\n",
      "['South America', 'loja', ' -79.16', '-3.59 ', 'Acurio A. and Rafael V. (2009)']\n",
      "['South America', 'loja', '-79.16', '-3.59', 'Rafael V. and Vela D. (2000)']\n",
      "['South America', 'yangana', '-79.30', '-4.00', 'Rafael V. and Vela D. (2003)']\n",
      "['South America', 'yangana', '-79.30', '-4.00', 'Rafael V. and Vela D. (2003)']\n",
      "['South America', 'leticia', '-69.57', '-4.09', 'Heed W.B. and Russell J.S. (1971)']\n",
      "['South America', 'ponta do caximbo', '-53.15', '-4.20', 'Napp M. and Cordeiro A.R. (1978)']\n",
      "['South America', 'porto alegre', ' -53.15', '-4.20', 'Garcia A.C. et al. (2008)']\n",
      "['South America', 'porto alegre', '-53.15', '-4.20', 'Martins M.B. (1989)']\n",
      "['South America', 'ponta do caximbo', '-53.15', '-4.20', 'Martins M.B. (1989)']\n",
      "['South America', 'barra do maxaranguape', '-35.26', '-5.32', 'Vilela C.R. et al. (2002)']\n",
      "['South America', 'bom jesus/rn', ' -35.37', '-5.58', 'Vilela C.R. et al. (2002)']\n",
      "['South America', 'sao jose de espinharas', '-36.00', '-6.56', 'Vilela C.R. et al. (2002)']\n",
      "['South America', 'junco do serido/pb', ' -36.43', '-7.00', 'Vilela C.R. et al. (2002)']\n",
      "['South America', 'trujillo/peru', '-79.00', '-8.06', 'Suyo T. M.P. et al. (1983)']\n",
      "['South America', 'urucu', '-35.00', '-8.17', 'Prudente A.L. da Costa et al. (2008)']\n",
      "['South America', 'huaraz', '-77.31', '-9.33', 'Suyo T. M.P. et al. (1983)']\n",
      "['South America', 'peru', '-75.00', '-10.00', 'Pilares G.L. and Suyo M.P. (1982)']\n",
      "['South America', 'peru', ' -75.00', '-10.00 ', 'Pilares G. L.V. and vasquez E. J.A. (1977)']\n",
      "['South America', 'brazil', '-50.00', '-10.00', 'Brisson J.A. et al. (2006)']\n",
      "['South America', 'brazil', '-50.00', '-10.00', 'Napp M. and Cordeiro A.R. (1981)']\n",
      "['South America', 'bonito', '-39.00', '-10.00', 'Tidon-Sklorz R. and de Melo Sene F. (1995)']\n",
      "['South America', 'guaraja/ro', ' -64.50', '-10.39', 'Chaves N.B. and Tidon R. (2008)']\n",
      "['Guajará-Mirim', 'guaraja/ro', '-64.63', '-10.41', 'Lab. Bio. Evolutiva']\n",
      "['South America', 'xique-xique/ba', '-42.40', '-10.42', 'Vilela C.R. et al. (2002)']\n",
      "['South America', 'la merced/peru', '-75.16', '-11.03 ', 'Pilares G. L.V. and vasquez E. J.A. (1977)']\n",
      "['South America', 'irece/ba', ' -41.47', '-11.20 ', 'Vilela C.R. et al. (2002)']\n",
      "['South America', 'cafarnaum/ba', '-41.20', '-11.30 ', 'Tidon-Sklorz R. and de Melo Sene F. (1995)']\n",
      "['South America', 'cafarnaum/ba', '-41.20', '-11.30', 'Vilela C.R. et al. (2002)']\n",
      "['South America', 'morro do chapeu/ba', '-41.01', '-11.38', 'Tidon-Sklorz R. and de Melo Sene F. (1995)']\n",
      "['South America', 'morro do chapeu/ba', '-41.01', '-11.38', 'Tidon-Sklorz R. and de Melo Sene F. (1995)']\n",
      "['South America', 'mira serra/ba', '-40.53', '-11.46 ', 'Vilela C.R. et al. (2002)']\n",
      "['South America', 'piritiba/ba', ' -40.45', '-11.47', 'Vilela C.R. et al. (2002)']\n",
      "['South America', 'barreiras/ba', '-45.15', '-12.06', 'Vilela C.R. et al. (2002)']\n",
      "['South America', 'barreiras/ba', '-45.05', '-12.07', 'Chaves N.B. and Tidon R. (2008)']\n",
      "['South America', 'barreiras/ba', '-45.05', '-12.07', 'Sene F.M. et al. (1980)']\n",
      "['South America', 'barreiras/ba', '-45.05', '-12.07 ', 'Sene F.M. et al. (1980)']\n",
      "['South America', 'barreiras/ba', ' -45.05', '-12.07', 'Vilela C.R. et al. (2002)']\n",
      "['South America', 'barreiras/ba', '-45.05', '-12.07', 'Sene F.M. et al. (1980)']\n",
      "['South America', 'ibotirama/ba', ' -43.07', '-12.18', 'Vilela C.R. et al. (2002)']\n",
      "['South America', 'cachoeira/monteiros/ba', '-51.38', '-12.25', ' Vilela C.R. et al. (2002)']\n",
      "['South America', 'vilhena/ro', '-60.16', '-12.29', 'Chaves N.B. and Tidon R. (2008)']\n",
      "['South America', 'milagres/ba', '-39.53', '-12.51', ' Vilela C.R. et al. (2002)']\n",
      "['South America', 'parana/to', ' -47.37', '-12.52 ', 'da Mata R.A. et al. (2008)']\n",
      "['South America', 'Vale do Paranã', ' -47.37', '-12.52 ', 'da Mata R.A. et al. (2008)']\n",
      "['South America', 'andarai', '-41.2', '-12.59', 'Tidon-Sklorz R. and de Melo Sene F. (1995)']\n",
      "['South America', 'umahuankilia', ' -72.00', '-13.00', 'Duda O. (1927)']\n",
      "['South America', 'mucuge/sp', ' -41.22', '-13.00 ', 'Tidon-Sklorz R. and de Melo Sene F. (1995)']\n",
      "['South America', 'mucuge/sp', ' -41.22', '-13.00 ', 'Tidon-Sklorz R. and de Melo Sene F. (1995)']\n",
      "['South America', 'Vale do Paranã', '-46.45', '-13.39', 'Mata et al.']\n",
      "['South America', 'pisco', '-76.12', '-13.46', 'Heed W.B. and Russell J.S. (1971)']\n",
      "['South America', 'pisco', '-76.12', '-13.46', 'Napp M. and Cordeiro A.R. (1981)']\n",
      "['South America', 'pisco', '-76.12', '-13.46', 'Yoon J.S. (1984)']\n",
      "['South America', 'pisco', '-76.12', '-13.46', 'Yoon J.S. (1990)']\n",
      "['South America', 'pisco', '-76.12', '-13.46', 'Yoon Z. (1996)']\n",
      "['South America', 'cavalcante/go', '-47.30', '-13.48', 'Chaves N.B. and Tidon R. (2008)']\n",
      "['South America', 'pisco', '-76.15', '-13.49', 'Yoon Z. (1996)']\n",
      "['South America', 'tangara da serra/mg', ' -57.03', '-14.04', 'Blauth M.L. and Gottschalk M.S. (2007)']\n",
      "['South America', 'Vale do Paranã', '-46.47', '-14.31', 'Mata et al.']\n",
      "['South America', 'sao joao da alinanca/go', '-47.30', '-14.36 ', 'Chaves N.B. and Tidon R. (2008)']\n",
      "['South America', 'chapada dos guimaraes/mt', '-55.58', '-14.49', 'Roque F. and Tidon R. (2008)']\n",
      "['South America', 'fazenda trijuncao/ba', '-45.59', '-14.49 ', 'Roque F. and Tidon R. (2008)']\n",
      "['South America', 'fazenda trijuncao/ba', ' -45.58', '-14.49 ', 'Roque F. and Tidon R. (2008)']\n",
      "['South America', 'sarampioni', '-75.00', '-15.00', 'Duda O. (1927)']\n",
      "['South America', 'lorenzopata', '-68.00', '-15.00', 'Duda O. (1927)']\n",
      "['South America', 'chapada dos guimaraes/mt', '-55.49', '-15.24 ', 'Roque F. and Tidon R. (2008)']\n",
      "['South America', 'ESECAE', '-47.39', '-15.34', 'Emerich']\n",
      "['South America', 'Planaltina', '-47.24', '-15.35', 'Emerich et al.']\n",
      "['South America', 'sobradinho/df', '-47.47', '-15.37', 'Roque F. et al. (2009)']\n",
      "['South America', 'brasilia park', '-47.54', '-15.40', 'Tidon R. (2006)']\n",
      "['South America', 'pnb/df', '-47.54', '-15.40 ', 'Chaves N.B. and Tidon R. (2008)']\n",
      "['South America', 'Planaltina', '-47.29', '-15.4', 'Emerich et al.']\n",
      "['South America', 'RECOR ', '-47.5', '-15.46', 'Figueiredo (dissertação']\n",
      "['South America', 'brasilia/df', '-47.59', '-15.47', 'Chaves N.B. and Tidon R. (2008)']\n",
      "['South America', 'brasilia/df', ' -47.59', '-15.47 ', 'Dobbin B.F. and Tidon R. (2004)']\n",
      "['South America', 'brasilia/df', '-47.59', '-15.47', 'Ferreira L.B. and Tidon R. (2005)']\n",
      "['South America', 'brasilia/df', '-47.59', '-15.47', 'Roque F. et al. (2006)']\n",
      "['South America', 'brasilia/df', '-47.59', '-15.47', 'Vilela C.R. et al. (2002)']\n",
      "['South America', 'cerrado', '-47.59', '-15.47', 'Cahaves N.B. and Tidon R. (2005)']\n",
      "['South America', 'brasilia/df', '-47.57', '-15.47', 'Ferreira L.B. and Tidon R. (2005)']\n",
      "['South America', 'brasilia/df', '-47.57', '-15.47', 'Roque F. et al. (2006)']\n",
      "['South America', 'brasilia/df', '-47.57', '-15.47', 'Vilela C.R. et al. (2002)']\n",
      "['South America', 'brasilia/df', '-47.57', '-15.47', 'Cahaves N.B. and Tidon R. (2005)']\n",
      "['South America', 'RECOR', '-47.52', '-15.55', 'Roque & Tidon']\n",
      "['South America', 'jbb/df', ' -47.50', '-15.55 ', 'Chaves N.B. and Tidon R. (2008)']\n",
      "['South America', 'recor reserve', '-47.53', '-15.56 ', 'Leao B F.D. and Tidon R. (2004)']\n",
      "['South America', 'recor reserve', '-47.53', '-15.56 ', 'Tidon R. (2006)']\n",
      "['South America', 'recor/df', '-47.53', '-15.56 ', 'Chaves N.B. and Tidon R. (2008)']\n",
      "['South America', 'recor reserve', '-47.53', '-15.56 ', 'Chaves N.B. and Tidon R. (2008)']\n",
      "['South America', 'RECOR ', '-47.52', '-15.56', 'Figueiredo (dissertação']\n",
      "['South America', 'serra dourada/go', ' -50.07', '-15.57', 'Roque F. and Tidon R. (2008)']\n",
      "['South America', 'coroico', '-67.45', '-16.09 ', 'Duda O. (1927)']\n",
      "['South America', 'serra do cipo/mg', '-43.35', '-16.16', 'Tidon-Sklorz et al.']\n",
      "['South America', 'grao mogol', '-42.50', '-16.32', 'Tidon-Sklorz R. and de Melo Sene F. (1995)']\n",
      "['South America', 'grao mogol/mg', '-42.50', '-16.32', 'Tidon-Sklorz R. and de Melo Sene F. (1995)']\n",
      "['South America', 'paracatu/mg', ' -46.52', '-17.14 ', 'Chaves N.B. and Tidon R. (2008)']\n",
      "['South America', 'Paracatu', '-47.16', '-17.24', 'Chaves N.B. and Tidon R. (2008)']\n",
      "['South America', 'Paracatu', '-47.2', '-17.29', 'Chaves N.B. and Tidon R. (2008)']\n",
      "['South America', 'catalao/go', '-47.38', '-17.33', 'Chaves N.B. and Tidon R. (2008)']\n",
      "['South America', 'Paracatu', '-47.09', '-17.33', 'Chaves N.B. and Tidon R. (2008)']\n",
      "['South America', 'Paracatu', '-47.08', '-17.34', 'Chaves N.B. and Tidon R. (2008)']\n",
      "['South America', 'catalao/go', '-47.28', '-17.38', 'Chaves N.B. and Tidon R. (2008)']\n",
      "['South America', 'santa cruz/bolivia', '-63.14', '-17.45', 'Heed W.B. and Russell J.S. (1971)']\n",
      "['South America', 'san ernesto/bolivia', '-60.00', '-18.00', 'Duda O. (1927)']\n",
      "['South America', 'emas/go', '-52.53', '-18.15', 'Roque F. and Tidon R. (2008)']\n",
      "['South America', 'camarones', ' -70.20', '-18.30 ', 'Brncic D. (1987)']\n",
      "['South America', 'serra do cipo/mg', '-43.40', '-19.00', 'Chaves N.B. and Tidon R. (2008)']\n",
      "['South America', 'serra do cipo/mg', '-43.37', '-19.16', 'Tidon-Sklorz et al.']\n",
      "['South America', 'serra do cipo', '-43.35', '-19.17', 'Tidon-Sklorz R. et al. (1994)']\n",
      "['South America', 'serra do cipo', '-43.35', '-19.17 ', 'Vilela C.R. and Mori L. (1999)']\n",
      "['South America', 'serra do cipo/mg', '-43.34', '-19.17', 'Tidon-Sklorz et al.']\n",
      "['South America', 'serra do cipo/mg', '-43.33', '-19.17', 'Tidon-Sklorz et al.']\n",
      "['South America', 'serra do cipo/mg', '-43.33', '-19.17', 'Vilela & Mori']\n",
      "['South America', 'serra do cipo/mg', '-43.36', '-19.18', 'Tidon-Sklorz et al.']\n",
      "['South America', 'serra do cipo/mg', '-43.34', '-19.18', 'Tidon-Sklorz et al.']\n",
      "['South America', 'serra do cipo/mg', '-43.33', '-19.2', 'Vilela & Mori']\n",
      "['South America', 'serra do cipo/mg', '-43.38', '-19.21', 'Tidon-Sklorz et al.']\n",
      "['South America', 'serra do cipo/mg', '-43.38', '-19.21', 'Vilela & Mori']\n",
      "['South America', 'Paracatu', '-47.15', '-19.29', 'Chaves N.B. and Tidon R. (2008)']\n",
      "['South America', 'lagoa santa/mg', '-43.55', '-19.39', 'Chaves N.B. and Tidon R. (2008)']\n",
      "['South America', 'lagoa santa/mg', '-43.55', '-19.39', 'Vilela C.R. et al. (2002)']\n",
      "['South America', 'miranda/mg', '-56.46', '-20.05', 'Vilela C.R. et al. (2002)']\n",
      "['South America', 'miranda/mg', ' -56.19', '-20.10 ', 'Vilela C.R. et al. (2002)']\n",
      "['South America', 'campo grande/ms', ' -54.34', '-20.41', 'Chaves N.B. and Tidon R. (2008)']\n",
      "['South America', 'campo grande/ms', '-54.34', '-20.41', 'Vilela C.R. et al. (2002)']\n",
      "['South America', 'olimpia', ' -48.55', '-20.43', 'Pires D.J. and Belo M. (2005)']\n",
      "['South America', 'serrana/sp', '-47.35', '-21.13 ', 'Mateus R.P. et al. (2006)']\n",
      "['South America', 'jaboticabal', '-48.17', '-21.15 ', 'Pires D.J. and Belo M. (2005)']\n",
      "['South America', 'sao paulo estado', '-48.00', '-22.00 ', 'Tidon-Sklorz R. and Sene F.M. (1999)']\n",
      "['South America', 'monte alto', '-47.00', '-22.00', 'Pires D.J. and Belo M. (2005)']\n",
      "['South America', 'sao carlos/sp', '-45.53', '-22.03 ', 'Vilela C.R. et al. (2002)']\n",
      "['South America', 'bela vista/ms', '-56.32', '-22.05', 'Chaves N.B. and Tidon R. (2008)']\n",
      "['South America', 'bela vista/ms', '-56.32', '-22.05 ', 'Sene F.M. et al. (1980)']\n",
      "['South America', 'bela vista/ms', '-56.32', '-22.05', 'Vilela C.R. et al. (2002)']\n",
      "['South America', 'bela vista/ms', '-56.32', '-22.05', 'Vilela C.R. et al. (2002)']\n",
      "['South America', 'caracol/ms', '-56.47', '-22.13 ', 'Chaves N.B. and Tidon R. (2008)']\n",
      "['South America', 'caracol/ms', ' -56.47', '-22.13', 'Vilela C.R. et al. (2002)']\n",
      "['South America', 'itirapina', '-47.48', '-22.16', 'Mateus R.P. et al. (2006)']\n",
      "['South America', 'brotas', '-47.57', '-22.17 ', 'Pires D.J. and Belo M. (2005)']\n",
      "['South America', 'mogi-guacu/sp', '-47.12', '-22.17', 'Sene F.M. et al. (1980)']\n",
      "['South America', 'mogi-guacu/sp', '-47.12', '-22.17', 'Sene F.M. et al. (1981)']\n",
      "['South America', 'mogi-guacu/sp', '-47.12', '-22.17', 'Vilela C.R. et al. (2002)']\n",
      "['South America', 'mogi-guacu/sp', '-47.12', '-22.17', 'Vilela C.R. et al. (2002)']\n",
      "['South America', 'santa maria da serra', '-48.10', '-22.34', 'Mateus R.P. et al. (2006)']\n",
      "['South America', 'barreiro rico', '-48.05', '-22.41 ', 'de Medeiros H.F. and Klaczko L.B. (2004)']\n",
      "['South America', 'cabo frio/rj', '-42.02', '-22.56', 'Vilela C.R. et al. (2002)']\n",
      "['South America', 'itatiba', ' -46.51', '-22.59 ', 'Mateus R.P. et al. (2006)']\n",
      "['South America', 'angra dos reis', '-44.17', '-22.59', 'Heed W.B. and Russell J.S. (1971)']\n",
      "['South America', 'arraial do cabo/rj', '-42.01', '-22.59', 'Vilela C.R. et al. (2002)']\n",
      "['South America', 'cabreuva/sp', '-47.10', '-23.15', 'Vilela C.R. et al. (2002)']\n",
      "['South America', 'itu/sp', ' -47.18', '-23.16', 'Vilela C.R. et al. (2002)']\n",
      "['South America', 'cantareira', '-46.38', '-23.27', 'Heed W.B. and Russell J.S. (1971)']\n",
      "['South America', 'jaguari/rs', '-54.42', '-23.30 ', 'Vilela C.R. et al. (2002)']\n",
      "['South America', 'mogi das cruzes', '-46.10', '-23.30', 'Heed W.B. and Russell J.S. (1971)']\n",
      "['South America', 'mogi das cruzes', '-46.10', '-23.30', 'Yoon J.S. (1984)']\n",
      "['South America', 'mogi das cruzes', '-46.10', '-23.30', 'Yoon J.S. (1990)']\n",
      "['South America', 'mogi das cruzes', '-46.10', '-23.30', 'Yoon Z. (1996)']\n",
      "['South America', 'azapa/chile', '-70.23', '-23.37 ', 'Brncic D. (1962)']\n",
      "['South America', 'azapa/chile', '-70.23', '-23.37 ', 'Brncic D. (1987)']\n",
      "['South America', 'azapa/chile', '-70.23', '-23.37 ', 'Brncic D. and Martinez H. (1990)']\n",
      "['South America', 'azapa/chile', '-70.23', '-23.37 ', 'Heed W.B. and Russell J.S. (1971)']\n",
      "['South America', 'rio ligeiro/pa', '-52.31', '-23.37', 'Sene F.M. et al. (1980)']\n",
      "['South America', 'rio ligeiro/pa', '-52.31', '-23.37', 'Vilela C.R. et al. (2002)']\n",
      "['South America', 'antofagasta', ' -70.23', '-23.40', 'Brncic D. (1987)']\n",
      "['South America', 'antofagasta', '-70.23', '-23.40', 'Brncic D. and Martinez H. (1990)']\n",
      "['South America', 'boraceia/sp', '-43.50', '-23.40', 'Val F.C. and Kaneshiro K.Y. (1988)']\n",
      "['South America', 'guaratuba/sp', '-45.53', '-23.50', 'Sene F.M. et al. (1980)']\n",
      "['South America', 'guaratuba/sp', '-45.53', '-23.50 ', 'Vilela C.R. et al. (2002)']\n",
      "['South America', 'senges', ' -49.23', '-24.07', 'Mateus R.P. et al. (2006)']\n",
      "['South America', 'peruibe/sp', '-46.55', '-24.14', 'Sene F.M. et al. (1980)']\n",
      "['South America', 'peruibe/sp', '-46.55', '-24.14', 'Sene F.M. et al. (1981)']\n",
      "['South America', 'peruibe/sp', '-46.55', '-24.14 ', 'Vilela C.R. et al. (2002)']\n",
      "['South America', 'peruibe/sp', '-46.55', '-24.14', 'Vilela C.R. et al. (2002)']\n",
      "['South America', 'canyon guartela', '-50.18', '-24.32', 'Mateus R.P. et al. (2006)']\n",
      "['South America', 'eldorado/rgs', ' -48.08', '-24.33', 'Napp M. and Cordeiro A.R. (1978)']\n",
      "['South America', 'salto santa rosa', '-50.33', '-24.37', 'Mateus R.P. et al. (2006)']\n",
      "['South America', 'la vina', '-65.33', '-25.30', 'Vilela C.R. et al. (2002)']\n",
      "['South America', 'joinville/sc', ' -48.51', '-26.18 ', 'Doge J.S. et al. (2008)']\n",
      "['South America', 'tapia', '-65.22', '-26.32 ', 'Vilela C.R. et al. (2002)']\n",
      "['South America', 'barra velha/sc', '-48.42', '-26.37', 'Vilela C.R. et al. (2002)']\n",
      "['South America', 'puerto tirol', '-59.10', '-27.18 ', 'Vilela C.R. et al. (2002)']\n",
      "['South America', 'ratones', '-48.30', '-27.27', 'Schmitz H.J. et al. (2007)']\n",
      "['South America', 'resistencia', '-59.00', '-27.28', 'Vilela C.R. et al. (2002)']\n",
      "['South America', 'florianopolis/sc', '-48.32', '-27.35 ', 'Gottschalk M.S. et al. (2007)']\n",
      "['South America', 'itacorubi', '-48.31', '-27.35', 'Schmitz H.J. et al. (2007)']\n",
      "['South America', 'itaqui/rs', '-56.33', '-29.09', 'Robe L.J. et al. (2010)']\n",
      "['South America', 'itaqui/rs', '-56.33', '-29.09', ' phylogen ... ']\n",
      "['South America', 'esteio', ' -51.11', '-29.52 ', 'Martins M.B. (2001)']\n",
      "['South America', 'restinga/rgs', ' -53.25', '-29.55', 'Napp M. and Cordeiro A.R. (1978)']\n",
      "['South America', 'tramandai/rs', '-50.13', '-29.55 ', 'Sene F.M. et al. (1980)']\n",
      "['South America', 'tramandai/rs', '-50.13', '-29.55 ', 'Vilela C.R. et al. (2002)']\n",
      "['South America', 'chile', ' -70.00', '-30.00 ', 'Napp M. and Cordeiro A.R. (1981)']\n",
      "['South America', 'guaritas/rs', ' -53.20', '-30.45', 'Vilela C.R. et al. (2002)']\n",
      "['South America', 'valparaiso/chile', '-70.40', '-33.05', 'Brncic D. (1987)']\n",
      "['South America', 'el tabo', '-71.40', '-33.31', 'Brncic D. (1987)']\n",
      "['South America', 'san miguel de tucuman', '-65.00', '-35.00 ', 'Vilela C.R. et al. (2002)']\n"
     ]
    },
    {
     "name": "stdout",
     "output_type": "stream",
     "text": [
      "['North America', 'honolulu', '-157.5', '21.19', ' Herforth R.S. et al. (1984)']\n",
      "['North America', 'hawaii', '-155.4', '19.55', ' Anonymous XXX. (1986)']\n",
      "['North America', 'hawaii', '-155.4', '19.55', ' Kaneshiro K. (1986)']\n",
      "['North America', 'hawaii', '-155.4', '19.55', ' Leblanc L. et al. (2109)']\n",
      "['North America', 'monterey', '-120.3', '34.3', ' Stalker H.D. (1953)']\n",
      "['North America', 'ensenada/bcn', '-116.37', '32.52', ' Heed W.B. and Russell J.S. (1971)']\n",
      "['North America', 'arizona', '-112', '35', ' Patterson J.T. (1943)']\n",
      "['North America', 'chiricahua mountains/az', '-109.23', '31.56', ' Patterson J.T. and Wagner R.P. (1943)']\n",
      "['North America', 'chinipas', '-108.32', '27.22', ' Heed W.B. and Russell J.S. (1971)']\n",
      "['North America', 'culiacan/sin', '-107.27', '24.27', ' Gallo A.J. and Salceda V.M. (1974)']\n",
      "['North America', 'san rafael oribo', '-106', '30', ' Heed W.B. and Russell J.S. (1971)']\n",
      "['North America', 'durango/dur', '-104.4', '24.01', ' Stalker H.D. (1953)']\n",
      "['North America', 'tamaulipas', '-104.2', '35.5', ' Patterson J.T. (1943)']\n",
      "['North America', 'jalisco/jal', '-104', '20', ' Patterson J.T. (1943)']\n",
      "['North America', 'fort davis/tx', '-103.54', '30.35', ' Patterson J.T. and Wagner R.P. (1943)']\n",
      "['North America', 'tequila/jal', '-103.5', '20.53', ' Patterson J.T. and Mainland G.B. (1944)']\n",
      "['North America', 'chisos/tx', '-103.2', '29.15', ' Patterson J.T. and Wagner R.P. (1943)']\n",
      "['North America', 'jacona/mic', '-102.19', '19.58', ' Patterson J.T. and Mainland G.B. (1944)']\n",
      "['North America', 'camecuaro/mic', '-102.17', '19.55', ' Patterson J.T. and Mainland G.B. (1944)']\n",
      "['North America', 'uruapan/mic', '-102.04', '19.26', ' Gallo A.J. and Salceda V.M. (1974)']\n",
      "['North America', 'uruapan/mic', '-102.04', '19.26', ' Patterson J.T. and Mainland G.B. (1944)']\n",
      "['North America', 'michoacan', '-102', '21', ' Patterson J.T. (1943)']\n",
      "['North America', 'coahuila/coa', '-101.4', '27', ' Patterson J.T. (1943)']\n",
      "['North America', 'patzcuaro/mic', '-101.38', '19.3', ' Patterson J.T. and Mainland G.B. (1944)']\n",
      "['North America', 'san luis potosi', '-101', '22.1', ' Patterson J.T. (1943)']\n",
      "['North America', 'huichihuayan/slp', '-101', '23', ' Patterson J.T. and Mainland G.B. (1944)']\n",
      "['North America', 'saltillo/coa', '-101', '25.3', ' Patterson J.T. and Mainland G.B. (1944)']\n",
      "['North America', 'sterling city/nm', '-101', '31.5', ' Patterson J.T. and Wagner R.P. (1943)']\n",
      "['North America', 'del rio/tx', '-100.56', '29.23', ' Patterson J.T. and Wagner R.P. (1943)']\n",
      "['North America', 'guerrero', '-100.22', '28.21', ' Patterson J.T. (1943)']\n",
      "['North America', 'monterrey/nul', '-100.19', '25.4', ' Hsu T.C. (1949)']\n",
      "['North America', 'monterrey/nul', '-100.19', '25.4', ' Patterson J.T. and Mainland G.B. (1944)']\n",
      "['North America', 'sabinas/nul', '-100.1', '26.33', ' Patterson J.T. and Mainland G.B. (1944)']\n",
      "['North America', 'mexico', '-100', '20', ' Napp M. and Cordeiro A.R. (1981)']\n",
      "['North America', 'mexico', '-100', '20', ' Vargas L. (1954)']\n",
      "['North America', 'nuevo leon', '-100', '25', ' Patterson J.T. (1943)']\n",
      "['North America', 'williamson/tx', '-100', '30', ' Patterson J.T. and Wagner R.P. (1943)']\n",
      "['North America', 'acapulco/gue', '-99.56', '16.51', ' Patterson J.T. and Mainland G.B. (1944)']\n",
      "['North America', 'hualahuises/nul', '-99.42', '24.56', ' Patterson J.T. and Mainland G.B. (1944)']\n",
      "['North America', 'taxco/gue', '-99.36', '18.33', ' Patterson J.T. and Mainland G.B. (1944)']\n",
      "['North America', 'zumpango/gue', '-99.3', '17.39', ' Patterson J.T. and Mainland G.B. (1944)']\n",
      "['North America', 'zempoala/mex', '-99.19', '19.03', ' Patterson J.T. and Mainland G.B. (1944)']\n",
      "['North America', 'alpuyeca/mor', '-99.16', '18.44', ' Patterson J.T. and Mainland G.B. (1944)']\n",
      "['North America', 'cuernavaca/mor', '-99.15', '18.57', ' Heed W.B. and Russell J.S. (1971)']\n",
      "['North America', 'desierto de los leones', '-99.12', '19.2', ' Patterson J.T. and Mainland G.B. (1944)']\n",
      "['North America', 'jacala/hid', '-99.12', '21.01', ' Patterson J.T. and Mainland G.B. (1944)']\n",
      "['North America', 'mexico city', '-99.08', '19.23', ' Patterson J.T. (1943)']\n",
      "['North America', 'mexico city', '-99.08', '19.23', ' Stalker H.D. (1953)']\n",
      "['North America', 'morelos', '-99', '19', ' Patterson J.T. (1943)']\n",
      "['North America', 'matlapa/slp', '-99', '21', ' Patterson J.T. and Mainland G.B. (1944)']\n",
      "['North America', 'guemez/tam', '-99', '23.56', ' Patterson J.T. and Mainland G.B. (1944)']\n",
      "['North America', 'llera/tam', '-99', '24', ' Patterson J.T. and Mainland G.B. (1944)']\n",
      "['North America', 'ciudad mante/tam', '-98.59', '22.44', ' Patterson J.T. and Mainland G.B. (1944)']\n",
      "['North America', 'tamazunchale/slp', '-98.47', '21.16', ' Patterson J.T. and Mainland G.B. (1944)']\n",
      "['North America', 'san antonio/tx', '-98.3', '29.25', ' Patterson J.T. and Wagner R.P. (1943)']\n",
      "['North America', 'atlixco/pue', '-98.26', '18.55', ' Patterson J.T. and Mainland G.B. (1944)']\n",
      "['North America', 'atlixco/pue', '-98.26', '18.55', ' Stalker H.D. (1953)']\n",
      "['North America', 'mcallen/tx', '-98.14', '26.12', ' Patterson J.T. and Wagner R.P. (1943)']\n",
      "['North America', 'hidalgo/tam', '-98.12', '26.03', ' Patterson J.T. and Mainland G.B. (1944)']\n",
      "['North America', 'grand canyon/tx', '-98.12', '31.03', ' Patterson J.T. and Wagner R.P. (1943)']\n",
      "['North America', 'edinburg/tx', '-98.1', '26.18', ' Patterson J.T. and Wagner R.P. (1943)']\n",
      "['North America', 'alice/tx', '-98.04', '27.45', ' Patterson J.T. and Wagner R.P. (1943)']\n",
      "['North America', 'weslaco/tx', '-97.59', '26.1', ' Patterson J.T. and Wagner R.P. (1943)']\n",
      "['North America', 'weslaco/tx', '-97.59', '26.1', ' Yoon J.S. (1984)']\n",
      "['North America', 'weslaco/tx', '-97.59', '26.1', ' Yoon J.S. (1990)']\n",
      "['North America', 'weslaco/tx', '-97.59', '26.1', ' Yoon Z. (1996)']\n",
      "['North America', 'tampico/tam', '-97.52', '22.18', ' Patterson J.T. and Mainland G.B. (1944)']\n",
      "['North America', 'petlalcingo/pue', '-97.51', '18.08', ' Patterson J.T. and Mainland G.B. (1944)']\n",
      "['North America', 'huajuapan de leon/oxa', '-97.48', '17.5', ' Heed W.B. and Russell J.S. (1971)']\n",
      "['North America', 'austin/tx', '-97.44', '30.16', ' Patterson J.T. (1943)']\n",
      "['North America', 'austin/tx', '-97.44', '30.16', ' Patterson J.T. and Wagner R.P. (1943)']\n",
      "['North America', 'austin/tx', '-97.44', '30.16', ' Spencer W.P. (1957)']\n",
      "['North America', 'harlingen/tx', '-97.43', '26.12', ' Patterson J.T. and Wagner R.P. (1943)']\n",
      "['North America', 'teziutlan/pue', '-97.22', '19.49', ' Heed W.B. and Russell J.S. (1971)']\n",
      "['North America', 'teziutlan/pue', '-97.22', '19.49', ' Kambysellis M.P. (1968)']\n",
      "['North America', 'teziutlan/pue', '-97.22', '19.49', ' Throckmorton L.H. (1962)']\n",
      "['North America', 'teziutlan/pue', '-97.22', '19.49', ' Yoon J.S. (1984)']\n",
      "['North America', 'teziutlan/pue', '-97.22', '19.49', ' Yoon J.S. (1990)']\n",
      "['North America', 'teziutlan/pue', '-97.22', '19.49', ' Yoon Z. (1996)']\n",
      "['North America', 'cordoba/vcr', '-96.55', '18.55', ' Patterson J.T. and Mainland G.B. (1944)']\n",
      "['North America', 'oaxaca/oxa', '-96.44', '17.02', ' Stalker H.D. (1953)']\n",
      "['North America', 'oaxaca city', '-96.41', '17.05', ' Heed W.B. and Russell J.S. (1971)']\n",
      "['North America', 'puente nacional/vcr', '-96.3', '19.3', ' Patterson J.T. and Mainland G.B. (1944)']\n",
      "['North America', 'veracruz/vcr', '-96.1', '19.11', ' Gallo A.J. and Salceda V.M. (1974)']\n",
      "['North America', 'tehuantepec/oxa', '-95.13', '16.21', ' Heed W.B. and Russell J.S. (1971)']\n",
      "['North America', 'minatitlan/vcr', '-94.32', '17.59', ' Heed W.B. and Russell J.S. (1971)']\n",
      "['North America', 'jalapa/vcr', '-92.48', '17.45', ' Patterson J.T. and Mainland G.B. (1944)']\n",
      "['North America', 'merida/mex', '-89.39', '20.59', ' Heed W.B. and Russell J.S. (1971)']\n",
      "['North America', 'merida/mex', '-89.39', '20.59', ' Yoon J.S. (1984)']\n",
      "['North America', 'hammock', '-85.01', '30.27', ' Heed W.B. and Russell J.S. (1971)']\n",
      "['North America', 'lexington/ky', '-84.3', '38.02', ' Dawson W.D. (1960)']\n",
      "['North America', 'homestead/fl', '-82.44', '31.02', ' Heed W.B. and Russell J.S. (1971)']\n",
      "['North America', 'homestead/fl', '-82.44', '31.02', ' Yoon J.S. (1984)']\n",
      "['North America', 'saint petersburg/fl', '-82.4', '27.45', ' Stalker H.D. (1953)']\n",
      "['North America', 'tampa/fl', '-82.38', '27.58', ' Sturtevant A.H. (1921)']\n",
      "['North America', 'withlacoochee/fl', '-82.3', '29', ' Patterson J.T. and Wagner R.P. (1943)']\n",
      "['North America', 'don pedro/fl', '-82.16', '24.3', ' Simunovic A. and Jaenike J. (2006)']\n",
      "['North America', 'myakka/fl', '-82.16', '27.19', ' Patterson J.T. and Wagner R.P. (1943)']\n",
      "['North America', 'myakka head/fl', '-82.15', '27.2', ' Dudgeon E. (1954)']\n",
      "['North America', 'myakka head/fl', '-82.15', '27.2', ' Stalker H.D. (1953)']\n",
      "['North America', 'lakeland/fl', '-81.59', '28.02', ' Sturtevant A.H. (1921)']\n",
      "['North America', 'collier/fl', '-81.35', '25.59', ' Patterson J.T. and Wagner R.P. (1943)']\n",
      "['North America', 'avon park/fl', '-81.3', '27.36', ' Patterson J.T. and Wagner R.P. (1943)']\n",
      "['North America', 'florida', '-81.3', '27.4', ' Patterson J.T. (1943)']\n",
      "['North America', 'florida', '-81.3', '27.4', ' Townsend J.I. and Wheeler M.R. (1955)']\n",
      "['North America', 'everglades park/fl', '-81.22', '26.52', ' Dudgeon E. (1954)']\n",
      "['North America', 'everglades/fl', '-81.22', '26.52', ' Heed W.B. and Russell J.S. (1971)']\n",
      "['North America', 'everglades/fl', '-81.22', '26.52', ' Stalker H.D. (1953)']\n",
      "['North America', 'lake placid/fl', '-81.22', '27.18', ' Stalker H.D. (1953)']\n",
      "['North America', 'orlando/fl', '-81.21', '28.33', ' Patterson J.T. and Wagner R.P. (1943)']\n",
      "['North America', 'orlando/fl', '-81.21', '28.33', ' Sturtevant A.H. (1921)']\n",
      "['North America', 'monroe/fl', '-81.17', '28.5', ' Patterson J.T. and Wagner R.P. (1943)']\n",
      "['North America', 'daytona/fl', '-81.01', '29.11', ' Sturtevant A.H. (1921)']\n",
      "['North America', 'lake mckethan/fl', '-81', '27', ' Patterson J.T. and Wagner R.P. (1943)']\n",
      "['North America', 'mayakka', '-81', '27', ' Heed W.B. and Russell J.S. (1971)']\n",
      "['North America', 'royal palm park/fl', '-81', '27', ' Patterson J.T. and Wagner R.P. (1943)']\n",
      "['North America', 'lake okeechobee/fl', '-80.5', '27.14', ' Patterson J.T. and Wagner R.P. (1943)']\n",
      "['North America', 'lake okeechobee/fl', '-80.5', '27.14', ' Wharton L.T. (1943)']\n",
      "['North America', 'lake okeechobee/fl', '-80.5', '27.14', ' Wheeler M.R. (1949)']\n",
      "['North America', 'pahokee/fl', '-80.4', '26.49', ' Patterson J.T. and Wagner R.P. (1943)']\n",
      "['North America', 'palatka/fl', '-80.4', '29.38', ' Patterson J.T. and Wagner R.P. (1943)']\n",
      "['North America', 'coral gables/fl', '-80.16', '25.42', ' Ehrman L. and Miller T. (1982)']\n",
      "['North America', 'miami', '-80.15', '25.45', ' Sturtevant A.H. (1916)']\n",
      "['North America', 'miami/fl', '-80.15', '25.45', ' Patterson J.T. and Wagner R.P. (1943)']\n",
      "['North America', 'miami/fl', '-80.15', '25.45', ' Stalker H.D. (1953)']\n",
      "['North America', 'miami/fl', '-80.15', '25.45', ' Sturtevant A.H. (1921)']\n",
      "['North America', 'broward', '-80.1', '25.05', ' Marron M.T. et al. (2003)']\n",
      "['North America', 'fort lauderdale/fl', '-80.08', '26.08', ' Sturtevant A.H. (1921)']\n",
      "['North America', 'pompano/fl', '-80.07', '26.14', ' Hunter A.S. (1981)']\n"
     ]
    }
   ],
   "source": [
    "wrangler('cardini')"
   ]
  },
  {
   "cell_type": "markdown",
   "metadata": {},
   "source": [
    "# Intro to Computer Science 2017/1 Data"
   ]
  },
  {
   "cell_type": "markdown",
   "metadata": {},
   "source": [
    "## Open Wrangled .csv Data with Pandas"
   ]
  },
  {
   "cell_type": "code",
   "execution_count": null,
   "metadata": {
    "collapsed": true
   },
   "outputs": [],
   "source": []
  },
  {
   "cell_type": "markdown",
   "metadata": {},
   "source": [
    "## Print DataFrame"
   ]
  },
  {
   "cell_type": "code",
   "execution_count": null,
   "metadata": {
    "collapsed": true
   },
   "outputs": [],
   "source": []
  },
  {
   "cell_type": "markdown",
   "metadata": {},
   "source": [
    "## DataFrame Info"
   ]
  },
  {
   "cell_type": "code",
   "execution_count": null,
   "metadata": {
    "collapsed": true
   },
   "outputs": [],
   "source": []
  },
  {
   "cell_type": "markdown",
   "metadata": {},
   "source": [
    "## Fill NaN"
   ]
  },
  {
   "cell_type": "code",
   "execution_count": null,
   "metadata": {
    "collapsed": true
   },
   "outputs": [],
   "source": []
  },
  {
   "cell_type": "markdown",
   "metadata": {},
   "source": [
    "## DataFrame to .csv"
   ]
  },
  {
   "cell_type": "code",
   "execution_count": null,
   "metadata": {
    "collapsed": true
   },
   "outputs": [],
   "source": []
  },
  {
   "cell_type": "markdown",
   "metadata": {},
   "source": [
    "# Intro to Computer Science 2017/2 Data"
   ]
  },
  {
   "cell_type": "markdown",
   "metadata": {},
   "source": [
    "## Open Wrangled .csv Data with Pandas"
   ]
  },
  {
   "cell_type": "code",
   "execution_count": null,
   "metadata": {
    "collapsed": true
   },
   "outputs": [],
   "source": []
  },
  {
   "cell_type": "markdown",
   "metadata": {},
   "source": [
    "## Print DataFrame"
   ]
  },
  {
   "cell_type": "code",
   "execution_count": null,
   "metadata": {
    "collapsed": true
   },
   "outputs": [],
   "source": []
  },
  {
   "cell_type": "markdown",
   "metadata": {},
   "source": [
    "## DataFrame Info"
   ]
  },
  {
   "cell_type": "code",
   "execution_count": null,
   "metadata": {
    "collapsed": true
   },
   "outputs": [],
   "source": []
  },
  {
   "cell_type": "markdown",
   "metadata": {},
   "source": [
    "## Fill NaN"
   ]
  },
  {
   "cell_type": "code",
   "execution_count": null,
   "metadata": {
    "collapsed": true
   },
   "outputs": [],
   "source": []
  },
  {
   "cell_type": "markdown",
   "metadata": {},
   "source": [
    "## DataFrame to .csv"
   ]
  },
  {
   "cell_type": "code",
   "execution_count": null,
   "metadata": {
    "collapsed": true
   },
   "outputs": [],
   "source": []
  },
  {
   "cell_type": "code",
   "execution_count": null,
   "metadata": {
    "collapsed": true
   },
   "outputs": [],
   "source": []
  }
 ],
 "metadata": {
  "kernelspec": {
   "display_name": "Python 3",
   "language": "python",
   "name": "python3"
  }
 },
 "nbformat": 4,
 "nbformat_minor": 2
}
